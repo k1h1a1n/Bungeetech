{
  "nbformat": 4,
  "nbformat_minor": 2,
  "metadata": {
    "colab": {
      "name": "answer 1.ipynb",
      "provenance": [],
      "collapsed_sections": []
    },
    "kernelspec": {
      "name": "python3",
      "display_name": "Python 3.9.5 64-bit"
    },
    "language_info": {
      "name": "python",
      "version": "3.9.5"
    },
    "interpreter": {
      "hash": "31f2aee4e71d21fbe5cf8b01ff0e069b9275f58929596ceb00d14d90e3e16cd6"
    }
  },
  "cells": [
    {
      "cell_type": "code",
      "execution_count": 48,
      "source": [
        "import pandas as pd"
      ],
      "outputs": [],
      "metadata": {
        "id": "grfzRlzZMev-"
      }
    },
    {
      "cell_type": "code",
      "execution_count": 60,
      "source": [
        "data = pd.read_csv('/content/drive/MyDrive/internship-test2/input/question-1/main.csv')"
      ],
      "outputs": [],
      "metadata": {
        "id": "d0etSXxTOS-5"
      }
    },
    {
      "cell_type": "markdown",
      "source": [],
      "metadata": {
        "id": "QbNZvVjNG7fN"
      }
    },
    {
      "cell_type": "code",
      "execution_count": 50,
      "source": [
        "data.head()"
      ],
      "outputs": [
        {
          "output_type": "execute_result",
          "data": {
            "text/html": [
              "<div>\n",
              "<style scoped>\n",
              "    .dataframe tbody tr th:only-of-type {\n",
              "        vertical-align: middle;\n",
              "    }\n",
              "\n",
              "    .dataframe tbody tr th {\n",
              "        vertical-align: top;\n",
              "    }\n",
              "\n",
              "    .dataframe thead th {\n",
              "        text-align: right;\n",
              "    }\n",
              "</style>\n",
              "<table border=\"1\" class=\"dataframe\">\n",
              "  <thead>\n",
              "    <tr style=\"text-align: right;\">\n",
              "      <th></th>\n",
              "      <th>Year</th>\n",
              "      <th>Population</th>\n",
              "      <th>Total</th>\n",
              "      <th>Violent</th>\n",
              "      <th>Property</th>\n",
              "      <th>Murder</th>\n",
              "      <th>Forcible_Rape</th>\n",
              "      <th>Robbery</th>\n",
              "      <th>Aggravated_assault</th>\n",
              "      <th>Burglary</th>\n",
              "      <th>Larceny_Theft</th>\n",
              "      <th>Vehicle_Theft</th>\n",
              "    </tr>\n",
              "  </thead>\n",
              "  <tbody>\n",
              "    <tr>\n",
              "      <th>0</th>\n",
              "      <td>1960</td>\n",
              "      <td>179323175</td>\n",
              "      <td>3384200</td>\n",
              "      <td>288460</td>\n",
              "      <td>3095700</td>\n",
              "      <td>9110</td>\n",
              "      <td>17190</td>\n",
              "      <td>107840</td>\n",
              "      <td>154320</td>\n",
              "      <td>912100</td>\n",
              "      <td>1855400</td>\n",
              "      <td>328200</td>\n",
              "    </tr>\n",
              "    <tr>\n",
              "      <th>1</th>\n",
              "      <td>1961</td>\n",
              "      <td>182992000</td>\n",
              "      <td>3488000</td>\n",
              "      <td>289390</td>\n",
              "      <td>3198600</td>\n",
              "      <td>8740</td>\n",
              "      <td>17220</td>\n",
              "      <td>106670</td>\n",
              "      <td>156760</td>\n",
              "      <td>949600</td>\n",
              "      <td>1913000</td>\n",
              "      <td>336000</td>\n",
              "    </tr>\n",
              "    <tr>\n",
              "      <th>2</th>\n",
              "      <td>1962</td>\n",
              "      <td>185771000</td>\n",
              "      <td>3752200</td>\n",
              "      <td>301510</td>\n",
              "      <td>3450700</td>\n",
              "      <td>8530</td>\n",
              "      <td>17550</td>\n",
              "      <td>110860</td>\n",
              "      <td>164570</td>\n",
              "      <td>994300</td>\n",
              "      <td>2089600</td>\n",
              "      <td>366800</td>\n",
              "    </tr>\n",
              "    <tr>\n",
              "      <th>3</th>\n",
              "      <td>1963</td>\n",
              "      <td>188483000</td>\n",
              "      <td>4109500</td>\n",
              "      <td>316970</td>\n",
              "      <td>3792500</td>\n",
              "      <td>8640</td>\n",
              "      <td>17650</td>\n",
              "      <td>116470</td>\n",
              "      <td>174210</td>\n",
              "      <td>1086400</td>\n",
              "      <td>2297800</td>\n",
              "      <td>408300</td>\n",
              "    </tr>\n",
              "    <tr>\n",
              "      <th>4</th>\n",
              "      <td>1964</td>\n",
              "      <td>191141000</td>\n",
              "      <td>4564600</td>\n",
              "      <td>364220</td>\n",
              "      <td>4200400</td>\n",
              "      <td>9360</td>\n",
              "      <td>21420</td>\n",
              "      <td>130390</td>\n",
              "      <td>203050</td>\n",
              "      <td>1213200</td>\n",
              "      <td>2514400</td>\n",
              "      <td>472800</td>\n",
              "    </tr>\n",
              "  </tbody>\n",
              "</table>\n",
              "</div>"
            ],
            "text/plain": [
              "   Year  Population    Total  ...  Burglary  Larceny_Theft  Vehicle_Theft\n",
              "0  1960   179323175  3384200  ...    912100        1855400         328200\n",
              "1  1961   182992000  3488000  ...    949600        1913000         336000\n",
              "2  1962   185771000  3752200  ...    994300        2089600         366800\n",
              "3  1963   188483000  4109500  ...   1086400        2297800         408300\n",
              "4  1964   191141000  4564600  ...   1213200        2514400         472800\n",
              "\n",
              "[5 rows x 12 columns]"
            ]
          },
          "metadata": {},
          "execution_count": 50
        }
      ],
      "metadata": {
        "colab": {
          "base_uri": "https://localhost:8080/",
          "height": 204
        },
        "id": "kUJwmaIqOn6A",
        "outputId": "dfe4d55d-d61e-4a1e-ee1e-1c87294bb6c0"
      }
    },
    {
      "cell_type": "markdown",
      "source": [
        "generating a decades column by Floor division using this formula = (Year //10) * 10"
      ],
      "metadata": {
        "id": "KlHNf5MON2eE"
      }
    },
    {
      "cell_type": "code",
      "execution_count": 61,
      "source": [
        "data['Decades'] = (data.Year//10)*10\n",
        "data.drop(['Year', 'Total'], axis = 1, inplace= True)"
      ],
      "outputs": [],
      "metadata": {
        "id": "dxPgo_ASNbIN"
      }
    },
    {
      "cell_type": "markdown",
      "source": [
        "Creating a varialble \"col\" which consist of all rows of columns from \"Population to \"Vehicle_Theft\""
      ],
      "metadata": {
        "id": "UGpp69l1Of1r"
      }
    },
    {
      "cell_type": "code",
      "execution_count": 62,
      "source": [
        "col = data.loc[: , 'Population' : 'Vehicle_Theft']"
      ],
      "outputs": [],
      "metadata": {
        "id": "_w0IGOKmOqY9"
      }
    },
    {
      "cell_type": "markdown",
      "source": [
        "Created a Dictionary \"test\" in which i wanted to do the sum of all columns which are defined in variable \"col\" but in Population column i only want the last value."
      ],
      "metadata": {
        "id": "gwro6-LPPQJ8"
      }
    },
    {
      "cell_type": "code",
      "execution_count": 63,
      "source": [
        "test = { x : 'sum' for x in col}\n",
        "test['Population'] = 'last'"
      ],
      "outputs": [],
      "metadata": {
        "id": "K_gkPDAMPHSs"
      }
    },
    {
      "cell_type": "markdown",
      "source": [
        "Finally grouping it by decades column using \"agg\" which allows us to do multiple operations."
      ],
      "metadata": {
        "id": "U_5Niz8lQHWx"
      }
    },
    {
      "cell_type": "code",
      "execution_count": 66,
      "source": [
        "result=data.groupby('Decades').agg(test)\n",
        "result"
      ],
      "outputs": [
        {
          "output_type": "execute_result",
          "data": {
            "text/html": [
              "<div>\n",
              "<style scoped>\n",
              "    .dataframe tbody tr th:only-of-type {\n",
              "        vertical-align: middle;\n",
              "    }\n",
              "\n",
              "    .dataframe tbody tr th {\n",
              "        vertical-align: top;\n",
              "    }\n",
              "\n",
              "    .dataframe thead th {\n",
              "        text-align: right;\n",
              "    }\n",
              "</style>\n",
              "<table border=\"1\" class=\"dataframe\">\n",
              "  <thead>\n",
              "    <tr style=\"text-align: right;\">\n",
              "      <th></th>\n",
              "      <th>Population</th>\n",
              "      <th>Violent</th>\n",
              "      <th>Property</th>\n",
              "      <th>Murder</th>\n",
              "      <th>Forcible_Rape</th>\n",
              "      <th>Robbery</th>\n",
              "      <th>Aggravated_assault</th>\n",
              "      <th>Burglary</th>\n",
              "      <th>Larceny_Theft</th>\n",
              "      <th>Vehicle_Theft</th>\n",
              "    </tr>\n",
              "    <tr>\n",
              "      <th>Decades</th>\n",
              "      <th></th>\n",
              "      <th></th>\n",
              "      <th></th>\n",
              "      <th></th>\n",
              "      <th></th>\n",
              "      <th></th>\n",
              "      <th></th>\n",
              "      <th></th>\n",
              "      <th></th>\n",
              "      <th></th>\n",
              "    </tr>\n",
              "  </thead>\n",
              "  <tbody>\n",
              "    <tr>\n",
              "      <th>1960</th>\n",
              "      <td>201385000</td>\n",
              "      <td>4134930</td>\n",
              "      <td>45160900</td>\n",
              "      <td>106180</td>\n",
              "      <td>236720</td>\n",
              "      <td>1633510</td>\n",
              "      <td>2158520</td>\n",
              "      <td>13321100</td>\n",
              "      <td>26547700</td>\n",
              "      <td>5292100</td>\n",
              "    </tr>\n",
              "    <tr>\n",
              "      <th>1970</th>\n",
              "      <td>220099000</td>\n",
              "      <td>9607930</td>\n",
              "      <td>91383800</td>\n",
              "      <td>192230</td>\n",
              "      <td>554570</td>\n",
              "      <td>4159020</td>\n",
              "      <td>4702120</td>\n",
              "      <td>28486000</td>\n",
              "      <td>53157800</td>\n",
              "      <td>9739900</td>\n",
              "    </tr>\n",
              "    <tr>\n",
              "      <th>1980</th>\n",
              "      <td>248239000</td>\n",
              "      <td>14074328</td>\n",
              "      <td>117048900</td>\n",
              "      <td>206439</td>\n",
              "      <td>865639</td>\n",
              "      <td>5383109</td>\n",
              "      <td>7619130</td>\n",
              "      <td>33073494</td>\n",
              "      <td>72040253</td>\n",
              "      <td>11935411</td>\n",
              "    </tr>\n",
              "    <tr>\n",
              "      <th>1990</th>\n",
              "      <td>272690813</td>\n",
              "      <td>17527048</td>\n",
              "      <td>119053499</td>\n",
              "      <td>211664</td>\n",
              "      <td>998827</td>\n",
              "      <td>5748930</td>\n",
              "      <td>10568963</td>\n",
              "      <td>26750015</td>\n",
              "      <td>77679366</td>\n",
              "      <td>14624418</td>\n",
              "    </tr>\n",
              "    <tr>\n",
              "      <th>2000</th>\n",
              "      <td>307006550</td>\n",
              "      <td>13968056</td>\n",
              "      <td>100944369</td>\n",
              "      <td>163068</td>\n",
              "      <td>922499</td>\n",
              "      <td>4230366</td>\n",
              "      <td>8652124</td>\n",
              "      <td>21565176</td>\n",
              "      <td>67970291</td>\n",
              "      <td>11412834</td>\n",
              "    </tr>\n",
              "    <tr>\n",
              "      <th>2010</th>\n",
              "      <td>318857056</td>\n",
              "      <td>6072017</td>\n",
              "      <td>44095950</td>\n",
              "      <td>72867</td>\n",
              "      <td>421059</td>\n",
              "      <td>1749809</td>\n",
              "      <td>3764142</td>\n",
              "      <td>10125170</td>\n",
              "      <td>30401698</td>\n",
              "      <td>3569080</td>\n",
              "    </tr>\n",
              "  </tbody>\n",
              "</table>\n",
              "</div>"
            ],
            "text/plain": [
              "         Population   Violent  ...  Larceny_Theft  Vehicle_Theft\n",
              "Decades                        ...                              \n",
              "1960      201385000   4134930  ...       26547700        5292100\n",
              "1970      220099000   9607930  ...       53157800        9739900\n",
              "1980      248239000  14074328  ...       72040253       11935411\n",
              "1990      272690813  17527048  ...       77679366       14624418\n",
              "2000      307006550  13968056  ...       67970291       11412834\n",
              "2010      318857056   6072017  ...       30401698        3569080\n",
              "\n",
              "[6 rows x 10 columns]"
            ]
          },
          "metadata": {},
          "execution_count": 66
        }
      ],
      "metadata": {
        "colab": {
          "base_uri": "https://localhost:8080/",
          "height": 286
        },
        "id": "F0kxVx3TPLO2",
        "outputId": "57972e67-053d-4755-d769-9ccbd581e010"
      }
    },
    {
      "cell_type": "code",
      "execution_count": 67,
      "source": [
        "result.to_csv('main.csv')"
      ],
      "outputs": [],
      "metadata": {
        "id": "nq_Lu4V0ZiHA"
      }
    },
    {
      "cell_type": "code",
      "execution_count": 18,
      "source": [],
      "outputs": [],
      "metadata": {
        "id": "1y86miIrqDnq"
      }
    },
    {
      "cell_type": "code",
      "execution_count": null,
      "source": [],
      "outputs": [],
      "metadata": {
        "id": "XLqIRdVAqQ3v"
      }
    }
  ]
}